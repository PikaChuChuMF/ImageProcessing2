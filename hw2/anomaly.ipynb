{
 "cells": [
  {
   "cell_type": "markdown",
   "metadata": {},
   "source": [
    "# Детекция аномалий"
   ]
  },
  {
   "cell_type": "code",
   "execution_count": 21,
   "metadata": {},
   "outputs": [
    {
     "name": "stdout",
     "output_type": "stream",
     "text": [
      "Defaulting to user installation because normal site-packages is not writeable\n",
      "Requirement already satisfied: lightning in /home/yus/.local/lib/python3.10/site-packages (2.1.3)\n",
      "Requirement already satisfied: PyYAML<8.0,>=5.4 in /usr/lib/python3/dist-packages (from lightning) (5.4.1)\n",
      "Requirement already satisfied: fsspec<2025.0,>=2022.5.0 in /home/yus/.local/lib/python3.10/site-packages (from fsspec[http]<2025.0,>=2022.5.0->lightning) (2023.10.0)\n",
      "Requirement already satisfied: lightning-utilities<2.0,>=0.8.0 in /home/yus/.local/lib/python3.10/site-packages (from lightning) (0.10.1)\n",
      "Requirement already satisfied: numpy<3.0,>=1.17.2 in /home/yus/.local/lib/python3.10/site-packages (from lightning) (1.26.2)\n",
      "Requirement already satisfied: packaging<25.0,>=20.0 in /home/yus/.local/lib/python3.10/site-packages (from lightning) (23.2)\n",
      "Requirement already satisfied: torch<4.0,>=1.12.0 in /home/yus/.local/lib/python3.10/site-packages (from lightning) (2.1.1)\n",
      "Requirement already satisfied: torchmetrics<3.0,>=0.7.0 in /home/yus/.local/lib/python3.10/site-packages (from lightning) (0.11.4)\n",
      "Requirement already satisfied: tqdm<6.0,>=4.57.0 in /home/yus/.local/lib/python3.10/site-packages (from lightning) (4.66.1)\n",
      "Requirement already satisfied: typing-extensions<6.0,>=4.0.0 in /home/yus/.local/lib/python3.10/site-packages (from lightning) (4.8.0)\n",
      "Requirement already satisfied: pytorch-lightning in /home/yus/.local/lib/python3.10/site-packages (from lightning) (2.1.3)\n",
      "Requirement already satisfied: requests in /home/yus/.local/lib/python3.10/site-packages (from fsspec[http]<2025.0,>=2022.5.0->lightning) (2.31.0)\n",
      "Requirement already satisfied: aiohttp!=4.0.0a0,!=4.0.0a1 in /home/yus/.local/lib/python3.10/site-packages (from fsspec[http]<2025.0,>=2022.5.0->lightning) (3.8.6)\n",
      "Requirement already satisfied: setuptools in /usr/lib/python3/dist-packages (from lightning-utilities<2.0,>=0.8.0->lightning) (59.6.0)\n",
      "Requirement already satisfied: filelock in /home/yus/.local/lib/python3.10/site-packages (from torch<4.0,>=1.12.0->lightning) (3.13.1)\n",
      "Requirement already satisfied: sympy in /home/yus/.local/lib/python3.10/site-packages (from torch<4.0,>=1.12.0->lightning) (1.12)\n",
      "Requirement already satisfied: networkx in /home/yus/.local/lib/python3.10/site-packages (from torch<4.0,>=1.12.0->lightning) (3.2.1)\n",
      "Requirement already satisfied: jinja2 in /home/yus/.local/lib/python3.10/site-packages (from torch<4.0,>=1.12.0->lightning) (3.1.2)\n",
      "Requirement already satisfied: nvidia-cuda-nvrtc-cu12==12.1.105 in /home/yus/.local/lib/python3.10/site-packages (from torch<4.0,>=1.12.0->lightning) (12.1.105)\n",
      "Requirement already satisfied: nvidia-cuda-runtime-cu12==12.1.105 in /home/yus/.local/lib/python3.10/site-packages (from torch<4.0,>=1.12.0->lightning) (12.1.105)\n",
      "Requirement already satisfied: nvidia-cuda-cupti-cu12==12.1.105 in /home/yus/.local/lib/python3.10/site-packages (from torch<4.0,>=1.12.0->lightning) (12.1.105)\n",
      "Requirement already satisfied: nvidia-cudnn-cu12==8.9.2.26 in /home/yus/.local/lib/python3.10/site-packages (from torch<4.0,>=1.12.0->lightning) (8.9.2.26)\n",
      "Requirement already satisfied: nvidia-cublas-cu12==12.1.3.1 in /home/yus/.local/lib/python3.10/site-packages (from torch<4.0,>=1.12.0->lightning) (12.1.3.1)\n",
      "Requirement already satisfied: nvidia-cufft-cu12==11.0.2.54 in /home/yus/.local/lib/python3.10/site-packages (from torch<4.0,>=1.12.0->lightning) (11.0.2.54)\n",
      "Requirement already satisfied: nvidia-curand-cu12==10.3.2.106 in /home/yus/.local/lib/python3.10/site-packages (from torch<4.0,>=1.12.0->lightning) (10.3.2.106)\n",
      "Requirement already satisfied: nvidia-cusolver-cu12==11.4.5.107 in /home/yus/.local/lib/python3.10/site-packages (from torch<4.0,>=1.12.0->lightning) (11.4.5.107)\n",
      "Requirement already satisfied: nvidia-cusparse-cu12==12.1.0.106 in /home/yus/.local/lib/python3.10/site-packages (from torch<4.0,>=1.12.0->lightning) (12.1.0.106)\n",
      "Requirement already satisfied: nvidia-nccl-cu12==2.18.1 in /home/yus/.local/lib/python3.10/site-packages (from torch<4.0,>=1.12.0->lightning) (2.18.1)\n",
      "Requirement already satisfied: nvidia-nvtx-cu12==12.1.105 in /home/yus/.local/lib/python3.10/site-packages (from torch<4.0,>=1.12.0->lightning) (12.1.105)\n",
      "Requirement already satisfied: triton==2.1.0 in /home/yus/.local/lib/python3.10/site-packages (from torch<4.0,>=1.12.0->lightning) (2.1.0)\n",
      "Requirement already satisfied: nvidia-nvjitlink-cu12 in /home/yus/.local/lib/python3.10/site-packages (from nvidia-cusolver-cu12==11.4.5.107->torch<4.0,>=1.12.0->lightning) (12.3.52)\n",
      "Requirement already satisfied: attrs>=17.3.0 in /home/yus/.local/lib/python3.10/site-packages (from aiohttp!=4.0.0a0,!=4.0.0a1->fsspec[http]<2025.0,>=2022.5.0->lightning) (23.1.0)\n",
      "Requirement already satisfied: charset-normalizer<4.0,>=2.0 in /home/yus/.local/lib/python3.10/site-packages (from aiohttp!=4.0.0a0,!=4.0.0a1->fsspec[http]<2025.0,>=2022.5.0->lightning) (3.3.0)\n",
      "Requirement already satisfied: multidict<7.0,>=4.5 in /home/yus/.local/lib/python3.10/site-packages (from aiohttp!=4.0.0a0,!=4.0.0a1->fsspec[http]<2025.0,>=2022.5.0->lightning) (6.0.4)\n",
      "Requirement already satisfied: async-timeout<5.0,>=4.0.0a3 in /home/yus/.local/lib/python3.10/site-packages (from aiohttp!=4.0.0a0,!=4.0.0a1->fsspec[http]<2025.0,>=2022.5.0->lightning) (4.0.3)\n",
      "Requirement already satisfied: yarl<2.0,>=1.0 in /home/yus/.local/lib/python3.10/site-packages (from aiohttp!=4.0.0a0,!=4.0.0a1->fsspec[http]<2025.0,>=2022.5.0->lightning) (1.9.2)\n",
      "Requirement already satisfied: frozenlist>=1.1.1 in /home/yus/.local/lib/python3.10/site-packages (from aiohttp!=4.0.0a0,!=4.0.0a1->fsspec[http]<2025.0,>=2022.5.0->lightning) (1.4.0)\n",
      "Requirement already satisfied: aiosignal>=1.1.2 in /home/yus/.local/lib/python3.10/site-packages (from aiohttp!=4.0.0a0,!=4.0.0a1->fsspec[http]<2025.0,>=2022.5.0->lightning) (1.3.1)\n",
      "Requirement already satisfied: MarkupSafe>=2.0 in /home/yus/.local/lib/python3.10/site-packages (from jinja2->torch<4.0,>=1.12.0->lightning) (2.1.3)\n",
      "Requirement already satisfied: idna<4,>=2.5 in /home/yus/.local/lib/python3.10/site-packages (from requests->fsspec[http]<2025.0,>=2022.5.0->lightning) (3.4)\n",
      "Requirement already satisfied: urllib3<3,>=1.21.1 in /home/yus/.local/lib/python3.10/site-packages (from requests->fsspec[http]<2025.0,>=2022.5.0->lightning) (2.0.6)\n",
      "Requirement already satisfied: certifi>=2017.4.17 in /home/yus/.local/lib/python3.10/site-packages (from requests->fsspec[http]<2025.0,>=2022.5.0->lightning) (2023.7.22)\n",
      "Requirement already satisfied: mpmath>=0.19 in /home/yus/.local/lib/python3.10/site-packages (from sympy->torch<4.0,>=1.12.0->lightning) (1.3.0)\n",
      "\u001b[33mDEPRECATION: lightning-lite 1.8.0 has a non-standard dependency specifier torch>=1.9.*. pip 24.0 will enforce this behaviour change. A possible replacement is to upgrade to a newer version of lightning-lite or contact the author to suggest that they release a version with a conforming dependency specifiers. Discussion can be found at https://github.com/pypa/pip/issues/12063\u001b[0m\u001b[33m\n",
      "\u001b[0m\u001b[33mDEPRECATION: distro-info 1.1build1 has a non-standard version number. pip 24.0 will enforce this behaviour change. A possible replacement is to upgrade to a newer version of distro-info or contact the author to suggest that they release a version with a conforming version number. Discussion can be found at https://github.com/pypa/pip/issues/12063\u001b[0m\u001b[33m\n",
      "\u001b[0mDefaulting to user installation because normal site-packages is not writeable\n",
      "Collecting torchsummary\n",
      "  Downloading torchsummary-1.5.1-py3-none-any.whl (2.8 kB)\n",
      "\u001b[33mDEPRECATION: lightning-lite 1.8.0 has a non-standard dependency specifier torch>=1.9.*. pip 24.0 will enforce this behaviour change. A possible replacement is to upgrade to a newer version of lightning-lite or contact the author to suggest that they release a version with a conforming dependency specifiers. Discussion can be found at https://github.com/pypa/pip/issues/12063\u001b[0m\u001b[33m\n",
      "\u001b[0m\u001b[33mDEPRECATION: distro-info 1.1build1 has a non-standard version number. pip 24.0 will enforce this behaviour change. A possible replacement is to upgrade to a newer version of distro-info or contact the author to suggest that they release a version with a conforming version number. Discussion can be found at https://github.com/pypa/pip/issues/12063\u001b[0m\u001b[33m\n",
      "\u001b[0mInstalling collected packages: torchsummary\n",
      "Successfully installed torchsummary-1.5.1\n"
     ]
    }
   ],
   "source": [
    "!pip install lightning\n",
    "!pip install torchsummary\n"
   ]
  },
  {
   "cell_type": "code",
   "execution_count": 41,
   "metadata": {},
   "outputs": [],
   "source": [
    "from PIL import Image\n",
    "from sklearn.metrics import confusion_matrix\n",
    "\n",
    "from torch.utils.data import DataLoader, Dataset\n",
    "from torchvision import transforms\n",
    "\n",
    "from torchvision import transforms\n",
    "\n",
    "import numpy as np\n",
    "import pandas as pd\n",
    "import matplotlib.pyplot as plt\n",
    "\n",
    "import torch\n",
    "import torch.nn as nn\n",
    "import torch.nn.functional as F\n",
    "import torch.utils\n",
    "import torch.distributions\n",
    "from torchvision.datasets import ImageFolder\n",
    "from torchvision import datasets\n",
    "from torch.utils.data import DataLoader, random_split\n",
    "import tqdm\n",
    "import os\n",
    "from torchsummary import summary\n",
    "\n",
    "from matplotlib.pyplot import imshow"
   ]
  },
  {
   "cell_type": "code",
   "execution_count": 5,
   "metadata": {},
   "outputs": [
    {
     "name": "stderr",
     "output_type": "stream",
     "text": [
      "Seed set to 7\n"
     ]
    },
    {
     "data": {
      "text/plain": [
       "7"
      ]
     },
     "execution_count": 5,
     "metadata": {},
     "output_type": "execute_result"
    }
   ],
   "source": [
    "from lightning import seed_everything\n",
    "seed_everything(seed=7, workers=True)"
   ]
  },
  {
   "cell_type": "code",
   "execution_count": 13,
   "metadata": {},
   "outputs": [],
   "source": [
    "folder_path = \"./data/dataset/train\"\n"
   ]
  },
  {
   "cell_type": "markdown",
   "metadata": {},
   "source": [
    "### Пример случайного изображения"
   ]
  },
  {
   "cell_type": "code",
   "execution_count": 11,
   "metadata": {},
   "outputs": [
    {
     "data": {
      "text/plain": [
       "<matplotlib.image.AxesImage at 0x7fcdd8bd9630>"
      ]
     },
     "execution_count": 11,
     "metadata": {},
     "output_type": "execute_result"
    },
    {
     "data": {
      "image/png": "[encoded data removed]",
      "text/plain": [
       "<Figure size 640x480 with 1 Axes>"
      ]
     },
     "metadata": {},
     "output_type": "display_data"
    }
   ],
   "source": [
    "pil_im = Image.open('data/dataset/test/imgs/fefb9211-127e-4832-b21b-36cbbe64aeb0.jpg', 'r')\n",
    "imshow(np.asarray(pil_im))"
   ]
  },
  {
   "cell_type": "code",
   "execution_count": 12,
   "metadata": {},
   "outputs": [],
   "source": [
    "def create_datasets_and_loaders(root_path, train_transform, test_transform, train_split=0.9, batch_size=1024):\n",
    "    # Dataset creation with augmentation\n",
    "    dataset = datasets.ImageFolder(root=root_path, transform=train_transform)\n",
    "    \n",
    "    # Splitting the dataset\n",
    "    train_size = int(train_split * len(dataset))\n",
    "    val_size = len(dataset) - train_size\n",
    "    train_dataset, validation_dataset = random_split(dataset, [train_size, val_size])\n",
    "\n",
    "    # Adjusting validation dataset transform\n",
    "    validation_dataset.dataset.transform = test_transform\n",
    "\n",
    "    # Data loaders\n",
    "    train_loader = DataLoader(train_dataset, batch_size=batch_size, shuffle=True)\n",
    "    validation_loader = DataLoader(validation_dataset, batch_size=batch_size, shuffle=False)\n",
    "\n",
    "    return train_loader, validation_loader"
   ]
  },
  {
   "cell_type": "code",
   "execution_count": null,
   "metadata": {},
   "outputs": [],
   "source": [
    "target_size = 32"
   ]
  },
  {
   "cell_type": "markdown",
   "metadata": {},
   "source": [
    "## Аугментация"
   ]
  },
  {
   "cell_type": "code",
   "execution_count": 56,
   "metadata": {},
   "outputs": [],
   "source": [
    "target_size = 48\n",
    "preprocess_augm = transforms.Compose([\n",
    "    transforms.Resize((target_size, target_size)),\n",
    "    transforms.RandomRotation(15),\n",
    "    transforms.RandomVerticalFlip(),\n",
    "    transforms.RandomHorizontalFlip(),\n",
    "    transforms.ColorJitter(brightness=0.2, contrast=0.2, saturation=0.2, hue=0.1),\n",
    "    transforms.RandomGrayscale(p=0.2),\n",
    "    transforms.RandomResizedCrop(target_size, scale=(0.08, 1.0), ratio=(0.75, 1.3333333333333333)),\n",
    "    transforms.RandomPerspective(distortion_scale=0.3, p=0.5),\n",
    "    transforms.ToTensor(),\n",
    "    transforms.Normalize(mean=[0.485, 0.456, 0.406], std=[0.229, 0.224, 0.225]),\n",
    "])\n",
    "preprocess = transforms.Compose([\n",
    "    transforms.Resize((target_size, target_size)),\n",
    "    transforms.ToTensor(),\n",
    "    transforms.Normalize(mean=0, std=1)\n",
    "])\n",
    "\n",
    "# Create datasets and loaders\n",
    "train_loader, validation_loader = create_datasets_and_loaders(\n",
    "    'data/dataset/train_neproliv', \n",
    "    preprocess_augm, \n",
    "    preprocess, \n",
    "    train_split=0.9, \n",
    "    batch_size=1024\n",
    ")"
   ]
  },
  {
   "cell_type": "markdown",
   "metadata": {},
   "source": [
    "## Модель"
   ]
  },
  {
   "cell_type": "code",
   "execution_count": 126,
   "metadata": {},
   "outputs": [
    {
     "name": "stdout",
     "output_type": "stream",
     "text": [
      "----------------------------------------------------------------\n",
      "        Layer (type)               Output Shape         Param #\n",
      "================================================================\n",
      "            Conv2d-1           [-1, 32, 48, 48]             896\n",
      "              ReLU-2           [-1, 32, 48, 48]               0\n",
      "            Conv2d-3           [-1, 32, 24, 24]           9,248\n",
      "              ReLU-4           [-1, 32, 24, 24]               0\n",
      "            Conv2d-5           [-1, 64, 24, 24]          18,496\n",
      "              ReLU-6           [-1, 64, 24, 24]               0\n",
      "            Conv2d-7           [-1, 64, 12, 12]          36,928\n",
      "              ReLU-8           [-1, 64, 12, 12]               0\n",
      "            Conv2d-9          [-1, 128, 12, 12]          73,856\n",
      "           Conv2d-10            [-1, 128, 6, 6]         147,584\n",
      "           Conv2d-11            [-1, 128, 6, 6]         147,584\n",
      "           Conv2d-12             [-1, 16, 6, 6]           2,064\n",
      "           Conv2d-13            [-1, 128, 6, 6]           2,176\n",
      "AdaptiveAvgPool2d-14            [-1, 128, 1, 1]               0\n",
      "        Attention-15            [-1, 128, 6, 6]               0\n",
      "         Upsample-16          [-1, 128, 12, 12]               0\n",
      "           Conv2d-17           [-1, 64, 12, 12]          73,792\n",
      "         Upsample-18           [-1, 64, 24, 24]               0\n",
      "           Conv2d-19           [-1, 32, 24, 24]          18,464\n",
      "         Upsample-20           [-1, 32, 48, 48]               0\n",
      "           Conv2d-21            [-1, 3, 48, 48]             867\n",
      "          Sigmoid-22            [-1, 3, 48, 48]               0\n",
      "================================================================\n",
      "Total params: 531,955\n",
      "Trainable params: 531,955\n",
      "Non-trainable params: 0\n",
      "----------------------------------------------------------------\n",
      "Input size (MB): 0.03\n",
      "Forward/backward pass size (MB): 3.70\n",
      "Params size (MB): 2.03\n",
      "Estimated Total Size (MB): 5.75\n",
      "----------------------------------------------------------------\n"
     ]
    }
   ],
   "source": [
    "import torch.nn.functional as F\n",
    "\n",
    "class Attention(nn.Module):\n",
    "    def __init__(self, in_channels):\n",
    "        super(Attention, self).__init__()\n",
    "        self.conv1 = nn.Conv2d(in_channels, in_channels//8, kernel_size=1)\n",
    "        self.conv2 = nn.Conv2d(in_channels//8, in_channels, kernel_size=1)\n",
    "        self.pool = nn.AdaptiveAvgPool2d(1)\n",
    "\n",
    "    def forward(self, x):\n",
    "        x = self.conv1(x)\n",
    "        x = F.relu(x)\n",
    "        x = self.conv2(x)\n",
    "        x = F.sigmoid(x)\n",
    "        x = x * x\n",
    "        x = x * self.pool(x)\n",
    "        return x\n",
    "\n",
    "class Model(nn.Module):\n",
    "    def __init__(self):\n",
    "        super(Model, self).__init__()\n",
    "        # Define the layers\n",
    "        self.conv1 = nn.Conv2d(3, 32, kernel_size=3, padding=1, stride=1)\n",
    "        self.conv2 = nn.Conv2d(32, 32, kernel_size=3, padding=1, stride=2)\n",
    "        self.conv3 = nn.Conv2d(32, 64, kernel_size=3, padding=1, stride=1)\n",
    "        self.conv4 = nn.Conv2d(64, 64, kernel_size=3, padding=1, stride=2)\n",
    "        self.conv5 = nn.Conv2d(64, 128, kernel_size=3, padding=1, stride=1)\n",
    "        self.conv6 = nn.Conv2d(128, 128, kernel_size=3, padding=1, stride=2)\n",
    "        self.conv7 = nn.Conv2d(128, 128, kernel_size=3, padding=1, stride=1)\n",
    "        self.attention = Attention(128)\n",
    "        self.upsample = nn.Upsample(scale_factor=2, mode='bicubic')\n",
    "        self.conv8 = nn.Conv2d(128, 64, kernel_size=3, padding=1, stride=1)\n",
    "        self.conv9 = nn.Conv2d(64, 32, kernel_size=3, padding=1, stride=1)\n",
    "        self.conv10 = nn.Conv2d(32, 3, kernel_size=3, padding=1, stride=1)\n",
    "        self.relu = nn.ReLU()\n",
    "        self.sigmoid = nn.Sigmoid()\n",
    "\n",
    "    def forward(self, x):\n",
    "        # Define the forward pass\n",
    "        x = self.relu(self.conv1(x))\n",
    "        x = self.relu(self.conv2(x))\n",
    "        x = self.relu(self.conv3(x))\n",
    "        x = self.relu(self.conv4(x))\n",
    "        x = self.conv5(x)\n",
    "        x = self.conv6(x)\n",
    "        x = self.conv7(x)\n",
    "        x = self.attention(x) * x\n",
    "        x = self.upsample(x)\n",
    "        x = self.conv8(x)\n",
    "        x = self.upsample(x)\n",
    "        x = self.conv9(x)\n",
    "        x = self.upsample(x)\n",
    "        x = self.sigmoid(self.conv10(x))\n",
    "        # print(x.shape)\n",
    "        return x\n",
    "    \n",
    "device = 'cuda'\n",
    "model = Model().to(device=device)\n",
    "summary(model, (3, target_size,target_size))"
   ]
  },
  {
   "cell_type": "markdown",
   "metadata": {},
   "source": [
    "Обучение"
   ]
  },
  {
   "cell_type": "code",
   "execution_count": 165,
   "metadata": {},
   "outputs": [],
   "source": [
    "learning_rate = 0.001\n",
    "optimizer = torch.optim.AdamW(model.parameters(), lr=learning_rate, weight_decay=1e-5)\n",
    "criterion = nn.MSELoss()\n",
    "#learning rate scheduler\n",
    "scheduler = torch.optim.lr_scheduler.StepLR(optimizer, step_size=30, gamma=0.1)"
   ]
  },
  {
   "cell_type": "code",
   "execution_count": 166,
   "metadata": {},
   "outputs": [
    {
     "name": "stdout",
     "output_type": "stream",
     "text": [
      "Epoch 1/100, Train Loss: 0.003358, Validation Loss: 0.001635\n",
      "Epoch 2/100, Train Loss: 0.001309, Validation Loss: 0.000965\n",
      "Epoch 3/100, Train Loss: 0.000794, Validation Loss: 0.000675\n",
      "Epoch 4/100, Train Loss: 0.000623, Validation Loss: 0.000562\n",
      "Epoch 5/100, Train Loss: 0.000539, Validation Loss: 0.000501\n",
      "Epoch 6/100, Train Loss: 0.000506, Validation Loss: 0.000462\n",
      "Epoch 7/100, Train Loss: 0.000553, Validation Loss: 0.000465\n",
      "Epoch 8/100, Train Loss: 0.000482, Validation Loss: 0.000451\n",
      "Epoch 9/100, Train Loss: 0.000440, Validation Loss: 0.000427\n",
      "Epoch 10/100, Train Loss: 0.000412, Validation Loss: 0.000400\n",
      "Epoch 11/100, Train Loss: 0.000392, Validation Loss: 0.000381\n",
      "Epoch 12/100, Train Loss: 0.000379, Validation Loss: 0.000371\n",
      "Epoch 13/100, Train Loss: 0.000367, Validation Loss: 0.000360\n",
      "Epoch 14/100, Train Loss: 0.000356, Validation Loss: 0.000350\n",
      "Epoch 15/100, Train Loss: 0.000347, Validation Loss: 0.000341\n",
      "Epoch 16/100, Train Loss: 0.000343, Validation Loss: 0.000353\n",
      "Epoch 17/100, Train Loss: 0.000343, Validation Loss: 0.000330\n",
      "Epoch 18/100, Train Loss: 0.000331, Validation Loss: 0.000330\n",
      "Epoch 19/100, Train Loss: 0.000326, Validation Loss: 0.000326\n",
      "Epoch 20/100, Train Loss: 0.000326, Validation Loss: 0.000318\n",
      "Epoch 21/100, Train Loss: 0.000323, Validation Loss: 0.000314\n",
      "Epoch 22/100, Train Loss: 0.000316, Validation Loss: 0.000309\n",
      "Epoch 23/100, Train Loss: 0.000323, Validation Loss: 0.000330\n",
      "Epoch 24/100, Train Loss: 0.000315, Validation Loss: 0.000310\n",
      "Epoch 25/100, Train Loss: 0.000311, Validation Loss: 0.000307\n",
      "Epoch 26/100, Train Loss: 0.000304, Validation Loss: 0.000303\n",
      "Epoch 27/100, Train Loss: 0.000300, Validation Loss: 0.000303\n",
      "Epoch 28/100, Train Loss: 0.000299, Validation Loss: 0.000303\n",
      "Epoch 29/100, Train Loss: 0.000307, Validation Loss: 0.000297\n",
      "Epoch 30/100, Train Loss: 0.000299, Validation Loss: 0.000301\n",
      "Epoch 31/100, Train Loss: 0.000293, Validation Loss: 0.000292\n",
      "Epoch 32/100, Train Loss: 0.000291, Validation Loss: 0.000290\n",
      "Epoch 33/100, Train Loss: 0.000289, Validation Loss: 0.000289\n",
      "Epoch 34/100, Train Loss: 0.000289, Validation Loss: 0.000289\n",
      "Epoch 35/100, Train Loss: 0.000288, Validation Loss: 0.000289\n",
      "Epoch 36/100, Train Loss: 0.000288, Validation Loss: 0.000288\n",
      "Epoch 37/100, Train Loss: 0.000288, Validation Loss: 0.000288\n",
      "Epoch 38/100, Train Loss: 0.000287, Validation Loss: 0.000288\n",
      "Epoch 39/100, Train Loss: 0.000287, Validation Loss: 0.000288\n",
      "Epoch 40/100, Train Loss: 0.000287, Validation Loss: 0.000287\n",
      "Epoch 41/100, Train Loss: 0.000287, Validation Loss: 0.000287\n",
      "Epoch 42/100, Train Loss: 0.000286, Validation Loss: 0.000287\n",
      "Epoch 43/100, Train Loss: 0.000286, Validation Loss: 0.000287\n",
      "Epoch 44/100, Train Loss: 0.000286, Validation Loss: 0.000286\n",
      "Epoch 45/100, Train Loss: 0.000285, Validation Loss: 0.000286\n",
      "Epoch 46/100, Train Loss: 0.000285, Validation Loss: 0.000286\n",
      "Epoch 47/100, Train Loss: 0.000285, Validation Loss: 0.000285\n",
      "Epoch 48/100, Train Loss: 0.000285, Validation Loss: 0.000285\n",
      "Epoch 49/100, Train Loss: 0.000284, Validation Loss: 0.000285\n",
      "Epoch 50/100, Train Loss: 0.000284, Validation Loss: 0.000285\n",
      "Epoch 51/100, Train Loss: 0.000284, Validation Loss: 0.000284\n",
      "Epoch 52/100, Train Loss: 0.000283, Validation Loss: 0.000284\n",
      "Epoch 53/100, Train Loss: 0.000283, Validation Loss: 0.000284\n",
      "Epoch 54/100, Train Loss: 0.000283, Validation Loss: 0.000283\n",
      "Epoch 55/100, Train Loss: 0.000283, Validation Loss: 0.000283\n",
      "Epoch 56/100, Train Loss: 0.000282, Validation Loss: 0.000283\n",
      "Epoch 57/100, Train Loss: 0.000282, Validation Loss: 0.000282\n",
      "Epoch 58/100, Train Loss: 0.000281, Validation Loss: 0.000282\n",
      "Epoch 59/100, Train Loss: 0.000281, Validation Loss: 0.000282\n",
      "Epoch 60/100, Train Loss: 0.000281, Validation Loss: 0.000281\n",
      "Epoch 61/100, Train Loss: 0.000280, Validation Loss: 0.000281\n",
      "Epoch 62/100, Train Loss: 0.000280, Validation Loss: 0.000281\n",
      "Epoch 63/100, Train Loss: 0.000280, Validation Loss: 0.000281\n",
      "Epoch 64/100, Train Loss: 0.000280, Validation Loss: 0.000281\n",
      "Epoch 65/100, Train Loss: 0.000280, Validation Loss: 0.000281\n",
      "Epoch 66/100, Train Loss: 0.000280, Validation Loss: 0.000281\n",
      "Epoch 67/100, Train Loss: 0.000280, Validation Loss: 0.000281\n",
      "Epoch 68/100, Train Loss: 0.000280, Validation Loss: 0.000281\n",
      "Epoch 69/100, Train Loss: 0.000280, Validation Loss: 0.000281\n",
      "Epoch 70/100, Train Loss: 0.000280, Validation Loss: 0.000281\n",
      "Epoch 71/100, Train Loss: 0.000280, Validation Loss: 0.000281\n",
      "Epoch 72/100, Train Loss: 0.000280, Validation Loss: 0.000281\n",
      "Epoch 73/100, Train Loss: 0.000280, Validation Loss: 0.000280\n",
      "Epoch 74/100, Train Loss: 0.000280, Validation Loss: 0.000280\n",
      "Epoch 75/100, Train Loss: 0.000280, Validation Loss: 0.000280\n",
      "Epoch 76/100, Train Loss: 0.000280, Validation Loss: 0.000280\n",
      "Epoch 77/100, Train Loss: 0.000280, Validation Loss: 0.000280\n",
      "Epoch 78/100, Train Loss: 0.000280, Validation Loss: 0.000280\n",
      "Epoch 79/100, Train Loss: 0.000279, Validation Loss: 0.000280\n",
      "Epoch 80/100, Train Loss: 0.000279, Validation Loss: 0.000280\n",
      "Epoch 81/100, Train Loss: 0.000279, Validation Loss: 0.000280\n",
      "Epoch 82/100, Train Loss: 0.000279, Validation Loss: 0.000280\n",
      "Epoch 83/100, Train Loss: 0.000279, Validation Loss: 0.000280\n",
      "Epoch 84/100, Train Loss: 0.000279, Validation Loss: 0.000280\n",
      "Epoch 85/100, Train Loss: 0.000279, Validation Loss: 0.000280\n",
      "Epoch 86/100, Train Loss: 0.000279, Validation Loss: 0.000280\n",
      "Epoch 87/100, Train Loss: 0.000279, Validation Loss: 0.000280\n",
      "Epoch 88/100, Train Loss: 0.000279, Validation Loss: 0.000280\n",
      "Epoch 89/100, Train Loss: 0.000279, Validation Loss: 0.000280\n",
      "Epoch 90/100, Train Loss: 0.000279, Validation Loss: 0.000280\n",
      "Epoch 91/100, Train Loss: 0.000279, Validation Loss: 0.000280\n",
      "Epoch 92/100, Train Loss: 0.000279, Validation Loss: 0.000280\n",
      "Epoch 93/100, Train Loss: 0.000279, Validation Loss: 0.000280\n",
      "Epoch 94/100, Train Loss: 0.000279, Validation Loss: 0.000280\n",
      "Epoch 95/100, Train Loss: 0.000279, Validation Loss: 0.000280\n",
      "Epoch 96/100, Train Loss: 0.000279, Validation Loss: 0.000280\n",
      "Epoch 97/100, Train Loss: 0.000279, Validation Loss: 0.000280\n",
      "Epoch 98/100, Train Loss: 0.000279, Validation Loss: 0.000280\n",
      "Epoch 99/100, Train Loss: 0.000279, Validation Loss: 0.000280\n",
      "Epoch 100/100, Train Loss: 0.000279, Validation Loss: 0.000280\n"
     ]
    },
    {
     "data": {
      "image/png": "[encoded data removed]",
      "text/plain": [
       "<Figure size 640x480 with 1 Axes>"
      ]
     },
     "metadata": {},
     "output_type": "display_data"
    }
   ],
   "source": [
    "num_epochs = 100\n",
    "train_losses = []\n",
    "val_losses = []\n",
    "early_stopping_patience = 10\n",
    "min_val_loss = np.inf\n",
    "patience_counter = 0\n",
    "\n",
    "# Training loop\n",
    "for epoch in range(num_epochs):\n",
    "    model.train()\n",
    "    train_loss = 0.0\n",
    "    for images, _ in train_loader:\n",
    "        images = images.to(device)\n",
    "        \n",
    "        # Forward pass\n",
    "        outputs = model(images)\n",
    "        loss = criterion(outputs, images)\n",
    "        train_loss += loss.item()\n",
    "\n",
    "        # Backward and optimize\n",
    "        optimizer.zero_grad()\n",
    "        loss.backward()\n",
    "        optimizer.step()\n",
    "\n",
    "    scheduler.step()\n",
    "    \n",
    "    # Validation phase\n",
    "    model.eval()\n",
    "    validation_loss = 0.0\n",
    "    with torch.no_grad():\n",
    "        for inputs, _ in validation_loader:\n",
    "            inputs = inputs.to(device)\n",
    "            outputs = model(inputs)\n",
    "            loss = criterion(outputs, inputs)\n",
    "            validation_loss += loss.item()\n",
    "    \n",
    "    validation_loss /= len(validation_loader)\n",
    "    train_loss /= len(train_loader)\n",
    "    \n",
    "    train_losses.append(train_loss)\n",
    "    val_losses.append(validation_loss)\n",
    "    \n",
    "    print(f\"Epoch {epoch+1}/{num_epochs}, Train Loss: {train_loss:.6f}, Validation Loss: {validation_loss:.6f}\")\n",
    "\n",
    "    # Early stopping check\n",
    "    if validation_loss < min_val_loss:\n",
    "        min_val_loss = validation_loss\n",
    "        patience_counter = 0\n",
    "    else:\n",
    "        patience_counter += 1\n",
    "        if patience_counter >= early_stopping_patience:\n",
    "            print(\"Early stopping triggered\")\n",
    "            break\n",
    "\n",
    "\n",
    "torch.save(model.state_dict(), 'model.pth')\n",
    "plt.plot(train_losses, label='Training Loss')\n",
    "plt.plot(val_losses, label='Validation Loss')\n",
    "plt.legend()\n",
    "plt.show()"
   ]
  },
  {
   "cell_type": "markdown",
   "metadata": {},
   "source": [
    "## Считаем лося"
   ]
  },
  {
   "cell_type": "code",
   "execution_count": 170,
   "metadata": {},
   "outputs": [],
   "source": [
    "def compute_loss(model, dataset, criterion, device):\n",
    "    model.eval()\n",
    "    losses = []\n",
    "    with torch.no_grad():\n",
    "        for images, _ in DataLoader(dataset, batch_size=1, shuffle=False):\n",
    "            images = images.to(device)\n",
    "            outputs = model(images)\n",
    "            loss = criterion(outputs, images)\n",
    "            losses.append(loss.item())\n",
    "    return np.array(losses)\n",
    "\n",
    "def loss_df(losses, dataset):\n",
    "    \n",
    "    records = [{'img': path[0].split('/')[-1], 'loss': loss} for (path, loss) in zip(dataset.imgs, losses)]\n",
    "    return pd.DataFrame(records)\n",
    "\n",
    "def calculate_tpr_tnr(predictions_df, threshold):\n",
    "    predictions_df['predictions'] = (predictions_df['loss'] > threshold).astype(int)\n",
    "    tn, fp, fn, tp = confusion_matrix(predictions_df['class'], predictions_df['predictions']).ravel()\n",
    "    tpr = tp / (tp + fn) if (tp + fn) > 0 else 0\n",
    "    tnr = tn / (tn + fp) if (tn + fp) > 0 else 0\n",
    "    return tpr, tnr"
   ]
  },
  {
   "cell_type": "code",
   "execution_count": 171,
   "metadata": {},
   "outputs": [],
   "source": [
    "# Compute losses for the 'proliv' dataset\n",
    "proliv_dataset = ImageFolder(root='./data/dataset/proliv_test', transform=preprocess)\n",
    "\n",
    "# Compute losses for the test dataset\n",
    "test_dataset = ImageFolder(root='./data/dataset/test/', transform=preprocess)"
   ]
  },
  {
   "cell_type": "code",
   "execution_count": 186,
   "metadata": {},
   "outputs": [
    {
     "name": "stdout",
     "output_type": "stream",
     "text": [
      "TPR: 0.9124806201550387, TNR: 0.8848567530695771 with threshold = 0.0006198423798196018\n",
      "TPR: 0.6566666666666666, TNR: 0.9961800818553889 with threshold = 0.0017471729045243959\n",
      "TPR: 0.03651162790697674, TNR: 0.9997271487039563 with threshold = 0.003713481593877077\n"
     ]
    }
   ],
   "source": [
    "losses_proliv = compute_loss(model, proliv_dataset, criterion, device)\n",
    "\n",
    "losses_test = compute_loss(model, test_dataset, criterion, device)\n",
    "\n",
    "merged = pd.merge(loss_df(losses_test, test_dataset), pd.read_csv('./data/dataset/test/test_annotation.txt', sep=' ', names=['img', 'class']), how='left', on='img')\n",
    "\n",
    "# Calculate TPR and TNR for different trashholds\n",
    "thresholds_for_classification = [np.min(losses_proliv), np.mean(losses_proliv), np.max(losses_proliv)]\n",
    "\n",
    "for threshold in thresholds_for_classification:\n",
    "    \n",
    "    tpr, tnr = calculate_tpr_tnr(merged, threshold)\n",
    "    print(f\"TPR: {tpr}, TNR: {tnr} with threshold = {threshold}\")"
   ]
  },
  {
   "cell_type": "markdown",
   "metadata": {},
   "source": [
    "## Подбор Трешхолда (очень по-дурацки, но работает)"
   ]
  },
  {
   "cell_type": "code",
   "execution_count": 181,
   "metadata": {},
   "outputs": [],
   "source": [
    "thresholds = np.arange(0.0, 0.004, 0.000001)"
   ]
  },
  {
   "cell_type": "code",
   "execution_count": 184,
   "metadata": {},
   "outputs": [
    {
     "name": "stdout",
     "output_type": "stream",
     "text": [
      "TPR: 0.9224806201550387, TNR: 0.9086766712141883 with threshold = 0.000634\n"
     ]
    },
    {
     "data": {
      "image/png": "[encoded data removed]",
      "text/plain": [
       "<Figure size 640x480 with 1 Axes>"
      ]
     },
     "metadata": {},
     "output_type": "display_data"
    }
   ],
   "source": [
    "import matplotlib.pyplot as plt\n",
    "\n",
    "# список трешхолдов\n",
    "\n",
    "optimal_threshold = 0\n",
    "optimal_tpr = 0\n",
    "optimal_tnr = 0\n",
    "# списки значений TPR и TNR для каждого трешхолда\n",
    "tprs = []\n",
    "tnrs = []\n",
    "min_diff = 0\n",
    "# вычисление TPR и TNR для каждого трешхолда\n",
    "for threshold in thresholds:\n",
    "    tpr, tnr = calculate_tpr_tnr(merged, threshold)\n",
    "    if abs(tpr+tnr) > min_diff:\n",
    "        min_diff = abs(tpr+tnr)\n",
    "        optimal_threshold = threshold\n",
    "        optimal_tpr = tpr\n",
    "        optimal_tnr = tnr\n",
    "    tprs.append(tpr)\n",
    "    tnrs.append(tnr)\n",
    "    # print(f\"TPR: {tpr}, TNR: {tnr} with threshold = {threshold}\")\n",
    "\n",
    "# построение графиков\n",
    "print(f\"TPR: {optimal_tpr}, TNR: {optimal_tnr} with threshold = {optimal_threshold}\")\n",
    "plt.plot(thresholds, tprs, label='TPR')\n",
    "plt.plot(thresholds, tnrs, label='TNR')\n",
    "plt.xlabel('Threshold')\n",
    "plt.ylabel('Value')\n",
    "plt.title('TPR and TNR vs Threshold')\n",
    "plt.legend()\n",
    "plt.show()"
   ]
  }
 ],
 "metadata": {
  "kernelspec": {
   "display_name": "Python 3",
   "language": "python",
   "name": "python3"
  },
  "language_info": {
   "codemirror_mode": {
    "name": "ipython",
    "version": 3
   },
   "file_extension": ".py",
   "mimetype": "text/x-python",
   "name": "python",
   "nbconvert_exporter": "python",
   "pygments_lexer": "ipython3",
   "version": "3.10.12"
  }
 },
 "nbformat": 4,
 "nbformat_minor": 2
}
